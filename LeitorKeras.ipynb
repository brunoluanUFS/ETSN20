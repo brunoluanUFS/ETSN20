{
 "cells": [
  {
   "cell_type": "code",
   "execution_count": 31,
   "metadata": {},
   "outputs": [
    {
     "name": "stdout",
     "output_type": "stream",
     "text": [
      "Keys: KeysView(<HDF5 file \"Tunnel_model.h5\" (mode r)>)\n"
     ]
    }
   ],
   "source": [
    "import h5py\n",
    "filename = \"model\\Tunnel_model.h5\"\n",
    "\n",
    "with h5py.File(filename, \"r\") as f:\n",
    "    # List all groups\n",
    "    print(\"Keys: %s\" % f.keys())\n",
    "    a_group_key = list(f.keys())[0]\n",
    "\n",
    "    # Get the data\n",
    "    data = list(f[a_group_key])"
   ]
  },
  {
   "cell_type": "code",
   "execution_count": null,
   "metadata": {},
   "outputs": [],
   "source": [
    "import h5py\n",
    "filename = \"model\\Tunnel_model.h5\"\n",
    "\n",
    "with h5py.File(filename, \"r\") as f:\n",
    "    # List all groups\n",
    "    print(\"Keys: %s\" % f.keys())\n",
    "    a_group_key = \n",
    "\n",
    "    # Get the data\n",
    "    data = list(f[a_group_key])"
   ]
  },
  {
   "cell_type": "code",
   "execution_count": 32,
   "metadata": {},
   "outputs": [
    {
     "data": {
      "text/plain": [
       "['conv2d',\n",
       " 'conv2d_1',\n",
       " 'conv2d_2',\n",
       " 'conv2d_3',\n",
       " 'dense',\n",
       " 'dense_1',\n",
       " 'dropout',\n",
       " 'dropout_1',\n",
       " 'dropout_2',\n",
       " 'dropout_3',\n",
       " 'flatten',\n",
       " 'max_pooling2d',\n",
       " 'max_pooling2d_1',\n",
       " 'max_pooling2d_2',\n",
       " 'max_pooling2d_3']"
      ]
     },
     "execution_count": 32,
     "metadata": {},
     "output_type": "execute_result"
    }
   ],
   "source": [
    "data."
   ]
  }
 ],
 "metadata": {
  "interpreter": {
   "hash": "ec59980b4d14f8a3d6a60005a98ab289ae42371fb221744b07a3b6126c285608"
  },
  "kernelspec": {
   "display_name": "Python 3.7.11 64-bit ('env-01': conda)",
   "name": "python3"
  },
  "language_info": {
   "codemirror_mode": {
    "name": "ipython",
    "version": 3
   },
   "file_extension": ".py",
   "mimetype": "text/x-python",
   "name": "python",
   "nbconvert_exporter": "python",
   "pygments_lexer": "ipython3",
   "version": "3.7.11"
  },
  "orig_nbformat": 4
 },
 "nbformat": 4,
 "nbformat_minor": 2
}
